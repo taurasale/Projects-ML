{
 "cells": [
  {
   "cell_type": "markdown",
   "id": "29e3b40c-0088-427d-8526-615286b74e21",
   "metadata": {},
   "source": [
    "## About this Part\n\nCongrats!\nYou have reached the last Part of this Sprint.\nIn this Part, you will put what you learned during this and the previous Sprints into practice.\nAs the final assignment of this Sprint, you solve a lending automation problem for LendingClub.\nYou will have to apply all you have learned about training and deploying machine learning models to complete this task.\nOur expectation is that you'll use your own judgment on how to perform the analysis and select the most important avenues of modeling, statistical testing, and exploration.\nYou'll have to iteratively try to find patterns in the data, raise hypotheses and use your data analysis skills to get answers.\n\nP.S. we don't expect this project to be perfect - you will continue to improve your skills and there will be many projects for you to apply your newly gained skills in the future.\nFor now just use what you have learned and try your best!\n\n*Note:* [advice on building your portfolio](https://turingcollege.atlassian.net/wiki/spaces/DLG/pages/1002307695/Portfolio+Items)\n\n## Context\n\nImagine that you are a data scientist who was just hired by the LendingClub.\nThey want to automate their lending decisions fully, and they hired you to lead this project.\nYour team consists of a product manager to help you understand the business domain and a software engineer who will help you integrate your solution into their product.\nDuring the initial investigations, you've found that there was a similar initiative in the past, and luckily for you, they have left a somewhat clean dataset of LendingClub's loan data.\nThe dataset is located in a public bucket here: <https://storage.googleapis.com/335-lending-club/lending-club.zip> (although you were wondering if having your client data in a public bucket is such a good idea).\nIn the first meeting with your team, you all have decided to use this dataset because it will allow you to skip months of work of building a dataset from scratch.\nIn addition, you have decided to tackle this problem iteratively so that you can get test your hypothesis that you can automate these decisions and get actual feedback from the users as soon as possible.\nFor that, you have proposed a three-step plan on how to approach this problem.\nThe first step of your plan is to create a machine learning model to classify loans into accepted/rejected so that you can start learning if you have enough data to solve this simple problem adequately.\nThe second step is to predict the grade for the loan, and the third step is to predict the subgrade and the interest rate.\nYour team likes the plan, especially because after every step, you'll have a fully-working deployed model that your company can use.\nExcitedly you get to work!\n\n## Objectives for this Part\n\n- Practice downloading datasets from external sources.\n- Practice performing EDA.\n- Practice applying statistical inference procedures.\n- Practice using various types of machine learning models.\n- Practice building ensembles of machine learning models.\n- Practice using hyperparameter tuning.\n- Practice using AutoML tools.\n- Practice deploying machine learning models.\n- Practice visualizing data with Matplotlib & Seaborn.\n- Practice reading data, performing queries, and filtering data.\n\n## Requirements\n\n- Download the data from [here](https://storage.googleapis.com/335-lending-club/lending-club.zip).\n- Perform exploratory data analysis. This should include creating statistical summaries and charts, testing for anomalies, checking for correlations and other relations between variables, and other EDA elements.\n- Perform statistical inference. This should include defining the target population, forming multiple statistical hypotheses and constructing confidence intervals, setting the significance levels, conducting z or t-tests for these hypotheses.\n- Apply various machine learning models to predict the target variables based on your proposed plan. You should use hyperparameter tuning, model ensembling, the analysis of model selection, and other methods. The decision where to use and not to use these techniques is up to you, however, they should be aligned with your team's objectives.\n- Deploy these machine learning models to Google Cloud Platform. You are free to choose any deployment option you wish as long as it can be called an HTTP request.\n- Provide clear explanations in your notebook. Your explanations should inform the reader what you are trying to achieve, what results you got, and what these results mean.\n- Provide suggestions about how your analysis and models can be improved.\n\n## Evaluation Criteria\n\n- Adherence to the requirements. How well did you meet the requirements?\n- Depth of your analysis. Did you just skim the surface, or did you explored the dataset in-depth?\n- Model's performance. How well did your model perform the predictions?\n- Model's deployment. How performant, robust, and scalable your model deployment is?\n- Visualization quality. Did you use charts effectively to visualize patterns in the data? Are your visualizations properly labeled? Did you use colors effectively? Did you adhere to the principle of proportional ink?\n- Code quality. Was your code well-structured? Did you use the appropriate levels of abstraction? Did you remove commented-out and unused code? Did you adhere to the PEP8?\n- Code performance. Did you use suitable algorithms and data structures to solve the problems?\n\n## Project Review\n\nDuring your project review, you should present your project as if talking to a product manager and senior data analyst working in your team.\nYou will have to find the right balance between explaining the business side and the technical aspects of your work.\nYou can assume that both of your colleagues have a strong understanding of and are very interested in the business aspect of your project, so be sure to clearly explain what new insights you've found while analyzing the dataset and which directions look the most promising for further research. \nHowever, you should also spend time explaining the technical aspects of your work, especially the more complex or unconventional choices.\n\nDuring a project review, you may get asked questions that test your understanding of covered topics.\n\n- What dimensionality reduction algorithms do you know? What are their differences?\n- What is the curse of dimensionality?\n- What is the difference between DBSCAN and HDBSCAN?\n- What hyperparameter tuning strategies do you know? What are their advantages compared to Grid Search and Random Search?\n- Explain how SMOTE algorithm works? In which circumstances is this algorithm the most useful and in which it falls short?\n- What is AutoML? Why is it important?\n"
   ]
  },
  {
   "cell_type": "markdown",
   "id": "de4e2c1c-72f6-4fa0-9fc2-c5e74f586a60",
   "metadata": {},
   "source": [
    "## General Project Review Guidelines\n\nFor an in-depth explanation about how project reviews work at Turing College, please read [this doc](https://turingcollege.atlassian.net/wiki/spaces/DLG/pages/537395951/Peer+expert+reviews+corrections).\n"
   ]
  }
 ],
 "metadata": {
  "kernelspec": {
   "display_name": "Python 3",
   "language": "python",
   "name": "python3"
  },
  "language_info": {
   "codemirror_mode": {
    "name": "ipython",
    "version": 3
   },
   "file_extension": ".py",
   "mimetype": "text/x-python",
   "name": "python",
   "nbconvert_exporter": "python",
   "pygments_lexer": "ipython3",
   "version": "3.9.5"
  }
 },
 "nbformat": 4,
 "nbformat_minor": 5
}
